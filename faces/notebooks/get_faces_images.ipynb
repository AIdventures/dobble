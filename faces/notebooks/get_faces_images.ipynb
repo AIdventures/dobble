{
 "cells": [
  {
   "cell_type": "code",
   "execution_count": 1,
   "id": "164168bc",
   "metadata": {},
   "outputs": [
    {
     "name": "stdout",
     "output_type": "stream",
     "text": [
      "The dataframe has 13487 rows\n",
      "Available collections: [Collection(name=embeddings)]\n",
      "Items in faces collection: 8678\n"
     ]
    }
   ],
   "source": [
    "import os\n",
    "import sys\n",
    "sys.path.append(\"../\")\n",
    "from skimage.io import imread\n",
    "import matplotlib.pyplot as plt\n",
    "from PIL import Image\n",
    "from tqdm.notebook import tqdm\n",
    "from const import *"
   ]
  },
  {
   "cell_type": "code",
   "execution_count": 2,
   "id": "e3440fe8",
   "metadata": {},
   "outputs": [
    {
     "data": {
      "text/plain": [
       "dict_keys(['ids', 'embeddings', 'documents', 'metadatas'])"
      ]
     },
     "execution_count": 2,
     "metadata": {},
     "output_type": "execute_result"
    }
   ],
   "source": [
    "all_faces_info = FACES_COLLECTION.get()\n",
    "all_faces_info.keys()"
   ]
  },
  {
   "cell_type": "code",
   "execution_count": 3,
   "id": "2f0a5bc3",
   "metadata": {},
   "outputs": [
    {
     "data": {
      "text/plain": [
       "'/media/maparla/M7Shield/datasets/art/prado/faces_hog'"
      ]
     },
     "execution_count": 3,
     "metadata": {},
     "output_type": "execute_result"
    }
   ],
   "source": [
    "FACES_SAVE_DIR = os.path.join(PRADO_PATH, DB_NAME)\n",
    "os.makedirs(FACES_SAVE_DIR, exist_ok=True)\n",
    "FACES_SAVE_DIR"
   ]
  },
  {
   "cell_type": "code",
   "execution_count": 4,
   "id": "3bbcc7a9",
   "metadata": {},
   "outputs": [],
   "source": [
    "def save_as_jpg(image_array, file_path):\n",
    "    image = Image.fromarray(image_array)\n",
    "    image.save(file_path, 'JPEG')"
   ]
  },
  {
   "cell_type": "code",
   "execution_count": 5,
   "id": "25e7697a",
   "metadata": {},
   "outputs": [],
   "source": [
    "def crop_image(image, top, right, bottom, left):\n",
    "    cropped_image = image[top:bottom, left:right]\n",
    "    return cropped_image"
   ]
  },
  {
   "cell_type": "code",
   "execution_count": 6,
   "id": "0c619ec6",
   "metadata": {},
   "outputs": [
    {
     "data": {
      "application/vnd.jupyter.widget-view+json": {
       "model_id": "d5ba026eba1e44c98bee603d92ee6a01",
       "version_major": 2,
       "version_minor": 0
      },
      "text/plain": [
       "  0%|          | 0/8678 [00:00<?, ?it/s]"
      ]
     },
     "metadata": {},
     "output_type": "display_data"
    }
   ],
   "source": [
    "for face_id, face_metadata in tqdm(zip(all_faces_info['ids'], all_faces_info['metadatas']), total=len(all_faces_info['ids'])):\n",
    "    full_image_path = os.path.join(PRADO_PATH, \"images\", face_metadata[\"image_id\"])\n",
    "    full_image = imread(full_image_path)\n",
    "    \n",
    "    top = face_metadata[\"fl_top\"]\n",
    "    right = face_metadata[\"fl_right\"]\n",
    "    bottom = face_metadata[\"fl_bottom\"]\n",
    "    left = face_metadata[\"fl_left\"]\n",
    "\n",
    "    face = crop_image(full_image, top, right, bottom, left)\n",
    "    \n",
    "    save_as_jpg(\n",
    "        face,\n",
    "        os.path.join(FACES_SAVE_DIR, f\"{face_id}.jpg\")\n",
    "    )"
   ]
  }
 ],
 "metadata": {
  "kernelspec": {
   "display_name": "Python 3 (ipykernel)",
   "language": "python",
   "name": "python3"
  },
  "language_info": {
   "codemirror_mode": {
    "name": "ipython",
    "version": 3
   },
   "file_extension": ".py",
   "mimetype": "text/x-python",
   "name": "python",
   "nbconvert_exporter": "python",
   "pygments_lexer": "ipython3",
   "version": "3.10.11"
  }
 },
 "nbformat": 4,
 "nbformat_minor": 5
}
