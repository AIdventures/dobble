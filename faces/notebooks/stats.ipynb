{
 "cells": [
  {
   "cell_type": "code",
   "execution_count": 32,
   "id": "b5673ee9",
   "metadata": {},
   "outputs": [],
   "source": [
    "import os\n",
    "import sys\n",
    "from PIL import Image\n",
    "from tqdm.notebook import tqdm\n",
    "import pandas as pd\n",
    "\n",
    "from transformers import pipeline\n",
    "\n",
    "sys.path.append(\"../\")\n",
    "\n",
    "from const import *"
   ]
  },
  {
   "cell_type": "code",
   "execution_count": 33,
   "id": "988721eb",
   "metadata": {},
   "outputs": [],
   "source": [
    "ethnicity_pipe = pipeline(\"image-classification\", model=\"cledoux42/Ethnicity_Test_v003\")\n",
    "gender_pipe = pipeline(\"image-classification\", model=\"rizvandwiki/gender-classification-2\")\n",
    "age_pipe = pipeline(\"image-classification\", model=\"nateraw/vit-age-classifier\")"
   ]
  },
  {
   "cell_type": "code",
   "execution_count": 34,
   "id": "76a856cb",
   "metadata": {},
   "outputs": [
    {
     "data": {
      "text/plain": [
       "dict_keys(['ids', 'embeddings', 'documents', 'metadatas'])"
      ]
     },
     "execution_count": 34,
     "metadata": {},
     "output_type": "execute_result"
    }
   ],
   "source": [
    "faces_info = FACES_COLLECTION.get()\n",
    "faces_info.keys()"
   ]
  },
  {
   "cell_type": "code",
   "execution_count": null,
   "id": "aa4af88a",
   "metadata": {},
   "outputs": [
    {
     "data": {
      "application/vnd.jupyter.widget-view+json": {
       "model_id": "478549864fc041ea9fd39872cc47f3ee",
       "version_major": 2,
       "version_minor": 0
      },
      "text/plain": [
       "  0%|          | 0/8678 [00:00<?, ?it/s]"
      ]
     },
     "metadata": {},
     "output_type": "display_data"
    }
   ],
   "source": [
    "stats = []\n",
    "for metadata in tqdm(faces_info[\"metadatas\"]):\n",
    "    filename = os.path.join(PRADO_PATH, \"images\", metadata[\"image_id\"])\n",
    "    im = Image.open(filename)\n",
    "    \n",
    "    top = metadata['fl_top']\n",
    "    right = metadata['fl_right']\n",
    "    bottom = metadata['fl_bottom']\n",
    "    left = metadata['fl_left']\n",
    "    \n",
    "    face = im.crop((left, top, right, bottom))\n",
    "    \n",
    "    ethnicity = ethnicity_pipe(face)[0]['label']\n",
    "    gender = gender_pipe(face)[0]['label']\n",
    "    age = age_pipe(face)[0]['label']\n",
    "    \n",
    "    stats.append({\n",
    "        \"ethnicity\": ethnicity,\n",
    "        \"gender\": gender,\n",
    "        \"age\": age,\n",
    "    })"
   ]
  },
  {
   "cell_type": "code",
   "execution_count": null,
   "id": "0c40bb5f",
   "metadata": {},
   "outputs": [],
   "source": [
    "stats_df = pd.DataFrame(stats)"
   ]
  }
 ],
 "metadata": {
  "kernelspec": {
   "display_name": "Python 3 (ipykernel)",
   "language": "python",
   "name": "python3"
  },
  "language_info": {
   "codemirror_mode": {
    "name": "ipython",
    "version": 3
   },
   "file_extension": ".py",
   "mimetype": "text/x-python",
   "name": "python",
   "nbconvert_exporter": "python",
   "pygments_lexer": "ipython3",
   "version": "3.10.11"
  }
 },
 "nbformat": 4,
 "nbformat_minor": 5
}
