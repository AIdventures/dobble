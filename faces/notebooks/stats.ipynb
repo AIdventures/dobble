{
 "cells": [
  {
   "cell_type": "code",
   "execution_count": null,
   "id": "ca96756e",
   "metadata": {},
   "outputs": [],
   "source": [
    "import os\n",
    "import sys\n",
    "from PIL import Image\n",
    "from tqdm.notebook import tqdm\n",
    "import pandas as pd\n",
    "\n",
    "from transformers import pipeline\n",
    "\n",
    "sys.path.append(\"../\")\n",
    "\n",
    "from const import *"
   ]
  },
  {
   "cell_type": "code",
   "execution_count": null,
   "id": "f5e084ba",
   "metadata": {},
   "outputs": [],
   "source": [
    "ethnicity_pipe = pipeline(\"image-classification\", model=\"cledoux42/Ethnicity_Test_v003\")\n",
    "gender_pipe = pipeline(\"image-classification\", model=\"rizvandwiki/gender-classification-2\")\n",
    "age_pipe = pipeline(\"image-classification\", model=\"nateraw/vit-age-classifier\")"
   ]
  },
  {
   "cell_type": "code",
   "execution_count": null,
   "id": "f735fe85",
   "metadata": {},
   "outputs": [],
   "source": [
    "faces_info = FACES_COLLECTION.get()\n",
    "faces_info.keys()"
   ]
  },
  {
   "cell_type": "code",
   "execution_count": null,
   "id": "dad64bbb",
   "metadata": {},
   "outputs": [],
   "source": [
    "stats = []\n",
    "for metadata in tqdm(faces_info[\"metadatas\"]):\n",
    "    filename = os.path.join(PRADO_PATH, \"images\", metadata[\"image_id\"])\n",
    "    im = Image.open(filename)\n",
    "    \n",
    "    top = metadata['fl_top']\n",
    "    right = metadata['fl_right']\n",
    "    bottom = metadata['fl_bottom']\n",
    "    left = metadata['fl_left']\n",
    "    \n",
    "    face = im.crop((left, top, right, bottom))\n",
    "    \n",
    "    ethnicity = ethnicity_pipe(face)[0]['label']\n",
    "    gender = gender_pipe(face)[0]['label']\n",
    "    age = age_pipe(face)[0]['label']\n",
    "    \n",
    "    stats.append({\n",
    "        \"ethnicity\": ethnicity,\n",
    "        \"gender\": gender,\n",
    "        \"age\": age,\n",
    "    })"
   ]
  },
  {
   "cell_type": "code",
   "execution_count": null,
   "id": "99ac8cf3",
   "metadata": {},
   "outputs": [],
   "source": [
    "stats_df = pd.DataFrame(stats)\n",
    "stats_df.head()"
   ]
  },
  {
   "cell_type": "code",
   "execution_count": null,
   "id": "68d2f487",
   "metadata": {},
   "outputs": [],
   "source": [
    "stats_df.to_csv(\"stats.csv\", index=False)"
   ]
  },
  {
   "cell_type": "code",
   "execution_count": null,
   "id": "a43fcef1",
   "metadata": {},
   "outputs": [],
   "source": [
    "pd.read_csv(\"stats.csv\")"
   ]
  }
 ],
 "metadata": {
  "kernelspec": {
   "display_name": "Python 3 (ipykernel)",
   "language": "python",
   "name": "python3"
  },
  "language_info": {
   "codemirror_mode": {
    "name": "ipython",
    "version": 3
   },
   "file_extension": ".py",
   "mimetype": "text/x-python",
   "name": "python",
   "nbconvert_exporter": "python",
   "pygments_lexer": "ipython3",
   "version": "3.10.11"
  }
 },
 "nbformat": 4,
 "nbformat_minor": 5
}
