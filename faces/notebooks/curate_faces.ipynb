{
 "cells": [
  {
   "cell_type": "code",
   "execution_count": 1,
   "id": "c31c2c74",
   "metadata": {},
   "outputs": [
    {
     "name": "stdout",
     "output_type": "stream",
     "text": [
      "The dataframe has 13487 rows\n",
      "Available collections: [Collection(name=embeddings)]\n",
      "Items in faces collection: 8579\n"
     ]
    }
   ],
   "source": [
    "import os\n",
    "import sys\n",
    "sys.path.append(\"../\")\n",
    "from skimage.io import imread\n",
    "import matplotlib.pyplot as plt\n",
    "from PIL import Image\n",
    "from tqdm.notebook import tqdm\n",
    "import glob\n",
    "from const import *"
   ]
  },
  {
   "cell_type": "code",
   "execution_count": 2,
   "id": "2591fabb",
   "metadata": {},
   "outputs": [
    {
     "data": {
      "text/plain": [
       "dict_keys(['ids', 'embeddings', 'documents', 'metadatas'])"
      ]
     },
     "execution_count": 2,
     "metadata": {},
     "output_type": "execute_result"
    }
   ],
   "source": [
    "all_faces_info = FACES_COLLECTION.get()\n",
    "all_faces_info.keys()"
   ]
  },
  {
   "cell_type": "code",
   "execution_count": 3,
   "id": "0fdd56bb",
   "metadata": {},
   "outputs": [
    {
     "data": {
      "text/plain": [
       "'/media/maparla/M7Shield/datasets/art/prado/faces_hog'"
      ]
     },
     "execution_count": 3,
     "metadata": {},
     "output_type": "execute_result"
    }
   ],
   "source": [
    "FACES_DIR = os.path.join(PRADO_PATH, DB_NAME)\n",
    "FACES_DIR"
   ]
  },
  {
   "cell_type": "markdown",
   "id": "c80385cc",
   "metadata": {},
   "source": [
    "## Steps"
   ]
  },
  {
   "cell_type": "markdown",
   "id": "cc539798",
   "metadata": {},
   "source": [
    "1. First go to the folder where the faces are stored and remove all those ones you consider are not faces or don't want to be at the dataset\n",
    "2. The faces are generated at `get_faces_images` Jupyter Notebook. The names of the files are the IDs of faces at the ChromaDB Collection, so we are going to take the files we have at the folder and compare with the IDs of the ChromaDB Collection"
   ]
  },
  {
   "cell_type": "code",
   "execution_count": 4,
   "id": "ae65666f",
   "metadata": {},
   "outputs": [
    {
     "name": "stdout",
     "output_type": "stream",
     "text": [
      "There are 8579 face embeddings\n"
     ]
    }
   ],
   "source": [
    "all_faces_info = FACES_COLLECTION.get()\n",
    "db_faces_ids = all_faces_info['ids']\n",
    "print(f\"There are {len(db_faces_ids)} face embeddings\")"
   ]
  },
  {
   "cell_type": "code",
   "execution_count": 5,
   "id": "c1984bed",
   "metadata": {},
   "outputs": [
    {
     "name": "stdout",
     "output_type": "stream",
     "text": [
      "There are 8579 face images\n"
     ]
    }
   ],
   "source": [
    "faces_files = [f.split(\"/\")[-1] for f in glob.glob(f\"{FACES_DIR}/*.jpg\")]\n",
    "print(f\"There are {len(faces_files)} face images\")"
   ]
  },
  {
   "cell_type": "code",
   "execution_count": 6,
   "id": "4917d2be",
   "metadata": {},
   "outputs": [
    {
     "name": "stdout",
     "output_type": "stream",
     "text": [
      "There are 0 items to remove (expected: 0)\n"
     ]
    }
   ],
   "source": [
    "items2remove = [fid for fid in db_faces_ids if f\"{fid}.jpg\" not in faces_files]\n",
    "print(f\"There are {len(items2remove)} items to remove (expected: {len(db_faces_ids)-len(faces_files)})\")"
   ]
  },
  {
   "cell_type": "markdown",
   "id": "4222a44c",
   "metadata": {},
   "source": [
    "---"
   ]
  },
  {
   "cell_type": "code",
   "execution_count": 7,
   "id": "93fa2924",
   "metadata": {},
   "outputs": [],
   "source": [
    "if items2remove:\n",
    "    FACES_COLLECTION.delete(ids=items2remove)\n",
    "    CHROMADB_CLIENT.persist()\n",
    "    print(f\"Removed {len(items2remove)} items\")"
   ]
  }
 ],
 "metadata": {
  "kernelspec": {
   "display_name": "Python 3 (ipykernel)",
   "language": "python",
   "name": "python3"
  },
  "language_info": {
   "codemirror_mode": {
    "name": "ipython",
    "version": 3
   },
   "file_extension": ".py",
   "mimetype": "text/x-python",
   "name": "python",
   "nbconvert_exporter": "python",
   "pygments_lexer": "ipython3",
   "version": "3.10.11"
  }
 },
 "nbformat": 4,
 "nbformat_minor": 5
}
