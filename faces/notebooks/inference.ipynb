{
 "cells": [
  {
   "cell_type": "markdown",
   "id": "4b9c138c",
   "metadata": {},
   "source": [
    "## Import libraries"
   ]
  },
  {
   "cell_type": "code",
   "execution_count": 1,
   "id": "32361307",
   "metadata": {},
   "outputs": [],
   "source": [
    "import sys\n",
    "\n",
    "sys.path.append('../')"
   ]
  },
  {
   "cell_type": "code",
   "execution_count": 2,
   "id": "326f7cca",
   "metadata": {},
   "outputs": [
    {
     "name": "stdout",
     "output_type": "stream",
     "text": [
      "The dataframe has 13487 rows\n",
      "Available collections: [Collection(name=embeddings)]\n",
      "Items in faces collection: 8678\n"
     ]
    }
   ],
   "source": [
    "from const import *\n",
    "from utils import *"
   ]
  },
  {
   "cell_type": "markdown",
   "id": "abd85eab",
   "metadata": {},
   "source": [
    "---"
   ]
  },
  {
   "cell_type": "code",
   "execution_count": 3,
   "id": "d52ed971",
   "metadata": {},
   "outputs": [],
   "source": [
    "file_path = \"../test/jason.jpg\"\n",
    "image = face_recognition.load_image_file(file_path)"
   ]
  },
  {
   "cell_type": "code",
   "execution_count": 4,
   "id": "8b9a8aae",
   "metadata": {},
   "outputs": [],
   "source": [
    "face_embedding = find_face_embedding(image)"
   ]
  },
  {
   "cell_type": "code",
   "execution_count": 5,
   "id": "e96ba284",
   "metadata": {},
   "outputs": [],
   "source": [
    "nearest_face = find_nearest_face(face_embedding)"
   ]
  },
  {
   "cell_type": "code",
   "execution_count": 6,
   "id": "1afba9a8",
   "metadata": {},
   "outputs": [
    {
     "data": {
      "text/plain": [
       "{'image_id': '46216edc-a998-4b17-9276-683491db342f.jpg',\n",
       " 'fl_top': 320,\n",
       " 'fl_right': 973,\n",
       " 'fl_bottom': 587,\n",
       " 'fl_left': 706,\n",
       " 'width': 267,\n",
       " 'height': 267,\n",
       " 'distance': 0.3696378171443939}"
      ]
     },
     "execution_count": 6,
     "metadata": {},
     "output_type": "execute_result"
    }
   ],
   "source": [
    "nearest_face"
   ]
  },
  {
   "cell_type": "code",
   "execution_count": 10,
   "id": "358dd57a",
   "metadata": {},
   "outputs": [
    {
     "data": {
      "text/plain": [
       "work_url                               https://www.museodelprado.es/coleccion/obra-de...\n",
       "work_image_url                         https://content3.cdnprado.net/imagenes/Documen...\n",
       "author                                                        González de la Vega, Diego\n",
       "author_bio                             Madrid, 1628 - Madrid, 1697\\n\\nPintor español....\n",
       "author_url                             https://www.museodelprado.es/coleccion/artista...\n",
       "author_id                                           1e200b7c-6af7-49e4-b9ce-5bc1821e4b10\n",
       "work_title                                                                     San Pedro\n",
       "work_subtitle                                Siglo XVII. Óleo sobre lienzo, 125 x 105 cm\n",
       "work_exposed                                                                 No expuesto\n",
       "work_description                       Obra perteneciente a una serie dedicada a la r...\n",
       "work_tags                              Apostolado. Oratorio de Padres del Salvador, M...\n",
       "technical_sheet_numero_de_catalogo                                               P003248\n",
       "technical_sheet_autor                                         González de la Vega, Diego\n",
       "technical_sheet_titulo                                                         San Pedro\n",
       "technical_sheet_fecha                                                         Siglo XVII\n",
       "technical_sheet_tecnica                                                             Óleo\n",
       "technical_sheet_soporte                                                           Lienzo\n",
       "technical_sheet_dimension                           Alto: 125 cm;\\n\\n\\n\\n\\nAncho: 105 cm\n",
       "technical_sheet_serie                  Apostolado. Oratorio de Padres del Salvador, M...\n",
       "technical_sheet_procedencia            Madrid, Oratorio de Padres del Salvador del Mu...\n",
       "bibliography                           Cruzada Villaamil, Gregorio,  Catálogo provisi...\n",
       "inventory                              Inv. Museo de la Trinidad, Pintura.\\nNúm. 242....\n",
       "expositions                            Facultad / Veterinaria / San Pedro /17-2-959\\n...\n",
       "ubication                                                                          Libro\n",
       "technical_sheet_autores                                                              NaN\n",
       "technical_sheet_edicion_/_estado                                                     NaN\n",
       "technical_sheet_materia                                                              NaN\n",
       "technical_sheet_ceca                                                                 NaN\n",
       "technical_sheet_autora                                                               NaN\n",
       "technical_sheet_lugar_de_produccion                                                  NaN\n",
       "work_id                                         46216edc-a998-4b17-9276-683491db342f.jpg\n",
       "Name: 8185, dtype: object"
      ]
     },
     "execution_count": 10,
     "metadata": {},
     "output_type": "execute_result"
    }
   ],
   "source": [
    "piece = PRADO_DF[PRADO_DF['work_id'] == nearest_face['image_id']].iloc[0]\n",
    "piece"
   ]
  },
  {
   "cell_type": "code",
   "execution_count": 14,
   "id": "fa91a6ed",
   "metadata": {},
   "outputs": [
    {
     "name": "stdout",
     "output_type": "stream",
     "text": [
      "Cruzada Villaamil, Gregorio,  Catálogo provisional, historial y razonado del Museo Nacional de Pinturas,  Madrid,  1865.\n",
      "@@@\n",
      "Noticias. Levantamiento definitivo de depósitos,  Boletín del Museo del Prado,  X, 28,  1989, pp. 125.\n",
      "@@@\n",
      "Museo Nacional del Prado,  Museo del Prado: inventario general de pinturas (II). Museo de la Trinidad,  Museo del Prado, Espasa Calpe,  Madrid,  1991.\n",
      "@@@\n",
      "Álvarez Lopera, José,  El museo de la Trinidad: historia, obras y documentos,  Museo Nacional del Prado,  Madrid,  2009, pp. 97.\n"
     ]
    }
   ],
   "source": [
    "print(piece[\"bibliography\"])"
   ]
  }
 ],
 "metadata": {
  "kernelspec": {
   "display_name": "Python 3 (ipykernel)",
   "language": "python",
   "name": "python3"
  },
  "language_info": {
   "codemirror_mode": {
    "name": "ipython",
    "version": 3
   },
   "file_extension": ".py",
   "mimetype": "text/x-python",
   "name": "python",
   "nbconvert_exporter": "python",
   "pygments_lexer": "ipython3",
   "version": "3.10.11"
  }
 },
 "nbformat": 4,
 "nbformat_minor": 5
}
